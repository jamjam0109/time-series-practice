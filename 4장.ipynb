{
 "cells": [
  {
   "cell_type": "code",
   "execution_count": 33,
   "id": "adda7ce6-31d7-4730-bbed-753460aa357b",
   "metadata": {},
   "outputs": [
    {
     "name": "stderr",
     "output_type": "stream",
     "text": [
      "Matplotlib is building the font cache; this may take a moment.\n"
     ]
    }
   ],
   "source": [
    "import pandas as pd\n",
    "import numpy as np\n",
    "import matplotlib.pyplot as plt\n"
   ]
  },
  {
   "cell_type": "code",
   "execution_count": 112,
   "id": "28ef96a2-71eb-4efc-a580-e0e46f4c99ac",
   "metadata": {},
   "outputs": [],
   "source": [
    "# 4.2.1 \n",
    "\n",
    "years = [2014, 2015, 2016, 2017, 2018] \n",
    "member_status = ['bronze', 'silver', 'gold', 'inactive']\n",
    "\n",
    "member_years = np.random.choice(years, 1000, p=[0.1, 0.1, 0.15, 0.3, 0.35])\n",
    "member_stats = np.random.choice(member_status, 1000, p=[0.5, 0.3, 0.1, 0.1])\n",
    "\n",
    "year_joined = pd.DataFrame({\n",
    "    'year_joined': member_years,\n",
    "    'member_stats': member_stats\n",
    "})"
   ]
  },
  {
   "cell_type": "code",
   "execution_count": 113,
   "id": "d2697533-9398-47a6-b7ff-1ed8e9e2b74c",
   "metadata": {},
   "outputs": [
    {
     "data": {
      "text/html": [
       "<div>\n",
       "<style scoped>\n",
       "    .dataframe tbody tr th:only-of-type {\n",
       "        vertical-align: middle;\n",
       "    }\n",
       "\n",
       "    .dataframe tbody tr th {\n",
       "        vertical-align: top;\n",
       "    }\n",
       "\n",
       "    .dataframe thead th {\n",
       "        text-align: right;\n",
       "    }\n",
       "</style>\n",
       "<table border=\"1\" class=\"dataframe\">\n",
       "  <thead>\n",
       "    <tr style=\"text-align: right;\">\n",
       "      <th></th>\n",
       "      <th>year_joined</th>\n",
       "      <th>member_stats</th>\n",
       "    </tr>\n",
       "  </thead>\n",
       "  <tbody>\n",
       "    <tr>\n",
       "      <th>0</th>\n",
       "      <td>2016</td>\n",
       "      <td>gold</td>\n",
       "    </tr>\n",
       "    <tr>\n",
       "      <th>1</th>\n",
       "      <td>2018</td>\n",
       "      <td>silver</td>\n",
       "    </tr>\n",
       "    <tr>\n",
       "      <th>2</th>\n",
       "      <td>2017</td>\n",
       "      <td>silver</td>\n",
       "    </tr>\n",
       "    <tr>\n",
       "      <th>3</th>\n",
       "      <td>2016</td>\n",
       "      <td>bronze</td>\n",
       "    </tr>\n",
       "    <tr>\n",
       "      <th>4</th>\n",
       "      <td>2016</td>\n",
       "      <td>bronze</td>\n",
       "    </tr>\n",
       "  </tbody>\n",
       "</table>\n",
       "</div>"
      ],
      "text/plain": [
       "   year_joined member_stats\n",
       "0         2016         gold\n",
       "1         2018       silver\n",
       "2         2017       silver\n",
       "3         2016       bronze\n",
       "4         2016       bronze"
      ]
     },
     "execution_count": 113,
     "metadata": {},
     "output_type": "execute_result"
    }
   ],
   "source": [
    "year_joined.head()"
   ]
  },
  {
   "cell_type": "code",
   "execution_count": 114,
   "id": "278d76d1-dabc-4b71-9fa9-998283d070bf",
   "metadata": {},
   "outputs": [],
   "source": [
    "NUM_EMAILS_SENT_WEEKLY = 3\n",
    "\n",
    "# 한번도 열람하지 않은 회원\n",
    "def never_opens(period_rng):\n",
    "    return list()\n",
    "\n",
    "# 같은 양을 열람하는 회원\n",
    "def constant_open_rate(period_rng):\n",
    "    n, p = NUM_EMAILS_SENT_WEEKLY, np.random.uniform(0, 1)\n",
    "    num_opened = np.random.binomial(n, p, len(period_rng))\n",
    "    \n",
    "    return num_opened\n",
    "\n",
    "# 열람하는 양이 늘어나는 회원\n",
    "def increasing_open_rate(period_rng): \n",
    "    return open_rate_with_factor_change(period_rng, np. random.uniform(1.01, 1.30)) \n",
    "\n",
    "# 열람하는 양이 줄어드는 회원\n",
    "def decreasing_open_rate(period_rng): \n",
    "    return open_rate_with_factor_change(period_rng, np. random. uniform(0.5, 0.99)) \n",
    "\n",
    "# 증감율을 변화시킨 함수 \n",
    "def open_rate_with_factor_change(period_rng, far):    \n",
    "    if len(period_rng) < 1: \n",
    "        return list() \n",
    "    times = np.random.randint(0, len(period_rng), int(0.1 * len(period_rng))) \n",
    "    num_opened = np.zeros(len(period_rng)) \n",
    "    for prd in range(0, len(period_rng), 2): \n",
    "        try: \n",
    "            n, p = NUM_EMAILS_SENT_WEEKLY, np.random.uniform(0, 1) \n",
    "            num_opened[prd:(prd + 2)] = np.random.binomial(n, p, 2)\n",
    "            p = max(min(1, p * fac), 0) \n",
    "        except: \n",
    "            num_opened[prd] = np.random.binomial(n, p, 1)\n",
    "    for t in range(len(times)): \n",
    "        num_opened[times[t]] = 0\n",
    "    return num_opened \n"
   ]
  },
  {
   "cell_type": "code",
   "execution_count": 115,
   "id": "392972d4-acff-417b-9bde-6b5de76d5560",
   "metadata": {},
   "outputs": [],
   "source": [
    "def produce_donations(period_rng, member_behavior, num_emails, use_id, member_join_year):\n",
    "    donation_amounts = np.array([0, 25, 50, 75, 100, 250, 500, 1000, 1500, 2000])\n",
    "    member_has = np.random.choice(donation_amounts)\n",
    "\n",
    "    email_fraction = num_emails / (NUM_EMAILS_SENT_WEEKLY * len(period_rng)) \n",
    "    member_gives = member_has * email_fraction\n",
    "    member_gives_idx = np.where(member_gives >= donation_amounts)[0][-1]\n",
    "    member_gives_idx = max(min(member_gives_idx, len(donation_amounts) - 2), 1)\n",
    "    num_times_gave = np.random.poisson(2) * (2018 - member_join_year)\n",
    "    \n",
    "    times = np.random.randint(0, len(period_rng), num_times_gave)\n",
    "    \n",
    "    dons = pd.DataFrame({\n",
    "        'member'   : [],\n",
    "        'amount'   : [],\n",
    "        'timestamp': []\n",
    "    })\n",
    "\t\t\t\t\t\n",
    "    for n in range(num_times_gave):\n",
    "        donation = donation_amounts[member_gives_idx + np.random.binomial(1, .3)]\n",
    "        ts = str(period_rng[times[n]].start_time + random_weekly_time_delta())\n",
    "        dons = dons.append(pd.DataFrame({\n",
    "            'member' :[use_id],\n",
    "            'amount' :[donation],\n",
    "            'timestamp': [ts]\n",
    "        }))\n",
    "\n",
    "        if dons.shape[0] > 0:\n",
    "            dons = dons[dons.amount != 0]\n",
    "    \n",
    "            return dons"
   ]
  },
  {
   "cell_type": "code",
   "execution_count": 116,
   "id": "101b0a74-c985-4665-9a37-b5883542c010",
   "metadata": {},
   "outputs": [],
   "source": [
    "def random_weekly_time_delta():\n",
    "    days_of_week = [d for d in range(7)]\n",
    "    hours_of_day = [h for h in range(11, 23)] \n",
    "    minute_of_hour = [m for m in range(60)] \n",
    "    second_of_minute = [s for s in range(60)]\n",
    "    return pd.Timedelta(str(np.random.choice(days_of_week)) + \" days\" ) + pd.Timedelta(str(np.random.choice(hours_of_day)) + \" hours\" ) + pd.Timedelta(str(np.random.choice(minute_of_hour)) + \" minutes\") + pd.Timedelta(str(np.random.choice(second_of_minute)) + \" seconds\") \n"
   ]
  },
  {
   "cell_type": "code",
   "execution_count": 117,
   "id": "cdf65317-47bc-4154-b3d9-277020b1309c",
   "metadata": {},
   "outputs": [],
   "source": [
    "behaviors = [never_opens, constant_open_rate, increasing_open_rate, decreasing_open_rate] \n",
    "member_behaviors = np.random.choice(behaviors, 1000, [0.2, 0.5, 0.1, 0.2]) \n",
    "\t\t\t\t\n",
    "rng = pd.period_range('2015-02-14', '2018-06-01', freq = 'W')\n",
    "\n",
    "emails = pd.DataFrame({\n",
    "    'member': [],\n",
    "    'week': [],\n",
    "    'emailsOpened': []\n",
    "})\t\n",
    "\n",
    "donations = pd.DataFrame({\n",
    "    'member': [],\n",
    "    'amount': [],\n",
    "    'tunestamp': []\n",
    "})\t\n",
    "\t\t\t\t\t\n",
    "for idx in range(year_joined.shape[0]):\n",
    "    join_date = pd.Timestamp(year_joined.iloc[idx].year_joined) + pd.Timedelta(str(np.random.randint(0, 365)) + ' days')\n",
    "    join_date = min(join_date, pd.Timestamp('2018-06-01')).to_period(freq='W')\n",
    "\n",
    "    member_rng = rng[rng > join_date] \n",
    "\n",
    "    if len(member_rng) < 1:\n",
    "        continue\n",
    "\n",
    "    info = member_behaviors[idx](member_rng) \n",
    "    if len(info) == len(member_rng):\n",
    "        emails = emails.append(pd.DataFrame({\n",
    "            'member': [idx] * len(info),\n",
    "            'week': [str(r.start_time) for r in member_rng],\n",
    "            'emailsOpened': info\n",
    "        })) \n",
    "        donations = donations.append(\n",
    "           produce_donations(member_rng, member_behaviors[idx], sum(info), idx, join_date.year)\n",
    "        ) "
   ]
  },
  {
   "cell_type": "code",
   "execution_count": 118,
   "id": "2ff1b3f6-f67b-4b67-8bae-7b1c14781465",
   "metadata": {},
   "outputs": [
    {
     "data": {
      "text/plain": [
       "<AxesSubplot:xlabel='timestamp'>"
      ]
     },
     "execution_count": 118,
     "metadata": {},
     "output_type": "execute_result"
    },
    {
     "data": {
      "image/png": "[encoded data removed]",
      "text/plain": [
       "<Figure size 432x288 with 1 Axes>"
      ]
     },
     "metadata": {
      "needs_background": "light"
     },
     "output_type": "display_data"
    }
   ],
   "source": [
    "rng = pd.period_range('2015-02-14', '2018-06-01', freq = 'W')\n",
    "\n",
    "donations.set_index(pd.to_datetime(donations.timestamp), inplace = True) \n",
    "donations.sort_index(inplace = True)\n",
    "donations.groupby(pd.Grouper(freq='M')).amount.sum().plot()"
   ]
  },
  {
   "cell_type": "code",
   "execution_count": 119,
   "id": "939dc31e-b232-4527-bd52-ef916674c7c3",
   "metadata": {},
   "outputs": [],
   "source": [
    "# 택시\n",
    "def taxi_id_number(num_taxis): \n",
    "    arr = np.arange(num_taxis)\n",
    "    np.random.shuffle(arr)\n",
    "    \n",
    "    for i in range(num_taxis):\n",
    "        yield arr[i]\n"
   ]
  },
  {
   "cell_type": "code",
   "execution_count": 120,
   "id": "32d8a8d6-272a-4871-a7d2-c4702e5b7e0b",
   "metadata": {},
   "outputs": [],
   "source": [
    "ids = taxi_id_number(10)\n"
   ]
  },
  {
   "cell_type": "code",
   "execution_count": 121,
   "id": "5c293013-cb45-465f-b251-d4d4af68bc04",
   "metadata": {},
   "outputs": [
    {
     "data": {
      "text/plain": [
       "2"
      ]
     },
     "execution_count": 121,
     "metadata": {},
     "output_type": "execute_result"
    }
   ],
   "source": [
    "# next는 num_taxis 수 만큼 반복할 수 있음\n",
    "next(ids)"
   ]
  },
  {
   "cell_type": "code",
   "execution_count": 122,
   "id": "739d53cb-8cfe-4c59-a4f2-e2c6120f1c2d",
   "metadata": {},
   "outputs": [],
   "source": [
    "def shift_info():\n",
    "    start_times_and_freqs = [(0, 8), (8, 30), (16, 15)]\n",
    "    indices = np.arange(len(start_times_and_freqs)) \n",
    "    \n",
    "    while True:\n",
    "        idx = np.random.choice(indices,p=[0.25,0.5,0.25]) \n",
    "        start = start_times_and_freqs[idx]\n",
    "        yield (start[0], start[0] + 7.5, start[1]) "
   ]
  },
  {
   "cell_type": "code",
   "execution_count": 123,
   "id": "0d277c9d-55a2-4af9-9c36-025daa9c0d52",
   "metadata": {},
   "outputs": [],
   "source": [
    "def taxi_process(taxi_id_generator, shift_info_generator):\n",
    "    taxi_id = next(taxi_id_generator)\n",
    "    shift_start, shift_end, shift_mean_trips = next(shift_info_generator)\n",
    "    actual_trips = round(np.random.normal(loc = shift_mean_trips, scale = 2))\n",
    "\n",
    "    average_trip_time = 6.5 / shift_mean_trips * 60\n",
    "    between_events_time = 1.0 / (shift_mean_trips - 1) * 60\n",
    "    time = shift_start\n",
    "    \n",
    "    yield TimePoint(taxi_id, 'start shift', time)\n",
    "\n",
    "    deltaT = np.random.poisson(between_events_time) / 60\n",
    "    time += deltaT\n",
    "    \n",
    "    for i in range(actual_trips):\n",
    "        yield TimePoint(taxi_id, 'pick up ', time)\n",
    "        deltaT = np.random.poisson(average_trip_time) / 60\n",
    "        time += deltaT\n",
    "        yield TimePoint(taxi_id, 'drop off ', time)\n",
    "        deltaT = np.random.poisson(between_events_time) / 60\n",
    "        time += deltaT\n",
    "\n",
    "    deltaT = np.random.poisson(between_events_time) / 60\n",
    "    time += deltaT\n",
    "    yield TimePoint(taxi_id, 'end shift ', time) \n"
   ]
  },
  {
   "cell_type": "code",
   "execution_count": 162,
   "id": "66c57801-14c8-47ff-91c6-d713d041138f",
   "metadata": {},
   "outputs": [],
   "source": [
    "from dataclasses import dataclass\n",
    "\n",
    "@dataclass\n",
    "class TimePoint:\n",
    "    taxi_id: int\n",
    "    name: str\t\t\n",
    "    time: float\n",
    "\n",
    "def __lt__(self, other):\n",
    "\n",
    "    return self.time < other.time \t"
   ]
  },
  {
   "cell_type": "code",
   "execution_count": 163,
   "id": "9933ab33-17e3-4a3d-ba54-c821965c2dc1",
   "metadata": {},
   "outputs": [],
   "source": [
    "import queue\n",
    "\n",
    "class Simulator:\n",
    "    def __init__(self, num_taxis):\n",
    "        self._time_points = queue.PriorityQueue()\n",
    "\n",
    "        taxi_id_generator = taxi_id_number(num_taxis)\n",
    "        shift_info_generator = shift_info()        \n",
    "        self._taxis = [\n",
    "            taxi_process(taxi_id_generator, shift_info_generator) for i in range(num_taxis)\n",
    "        ]\n",
    "\n",
    "        self._prepare_run()\n",
    "\n",
    "    def _prepare_run(self): \n",
    "        for t in self._taxis:\n",
    "            while True: \n",
    "                try:\n",
    "                    e = next(t)\n",
    "                    self._time_points.put(e)\n",
    "                except:\n",
    "                    break\n",
    "\n",
    "    def run(self): \n",
    "        sim_time = 0\n",
    "#         while sim_time < 24:\n",
    "#         if self._time_points.empty():\n",
    "#                 break\n",
    "        p = self._time_points.get()\n",
    "\n",
    "#             sim_time = p.time\n",
    "#             print(p) \t\n"
   ]
  },
  {
   "cell_type": "code",
   "execution_count": 164,
   "id": "efcb87aa-0188-48cb-9feb-415b6352f6df",
   "metadata": {},
   "outputs": [
    {
     "ename": "TypeError",
     "evalue": "'<' not supported between instances of 'TimePoint' and 'TimePoint'",
     "output_type": "error",
     "traceback": [
      "\u001b[1;31m---------------------------------------------------------------------------\u001b[0m",
      "\u001b[1;31mTypeError\u001b[0m                                 Traceback (most recent call last)",
      "\u001b[1;32m<ipython-input-164-b7a4331ebba2>\u001b[0m in \u001b[0;36m<module>\u001b[1;34m\u001b[0m\n\u001b[0;32m      1\u001b[0m \u001b[0msim\u001b[0m \u001b[1;33m=\u001b[0m \u001b[0mSimulator\u001b[0m\u001b[1;33m(\u001b[0m\u001b[1;36m100\u001b[0m\u001b[1;33m)\u001b[0m\u001b[1;33m\u001b[0m\u001b[1;33m\u001b[0m\u001b[0m\n\u001b[1;32m----> 2\u001b[1;33m \u001b[0msim\u001b[0m\u001b[1;33m.\u001b[0m\u001b[0mrun\u001b[0m\u001b[1;33m(\u001b[0m\u001b[1;33m)\u001b[0m\u001b[1;33m\u001b[0m\u001b[1;33m\u001b[0m\u001b[0m\n\u001b[0m",
      "\u001b[1;32m<ipython-input-163-5ace35e9293e>\u001b[0m in \u001b[0;36mrun\u001b[1;34m(self)\u001b[0m\n\u001b[0;32m     27\u001b[0m \u001b[1;31m#         if self._time_points.empty():\u001b[0m\u001b[1;33m\u001b[0m\u001b[1;33m\u001b[0m\u001b[1;33m\u001b[0m\u001b[0m\n\u001b[0;32m     28\u001b[0m \u001b[1;31m#                 break\u001b[0m\u001b[1;33m\u001b[0m\u001b[1;33m\u001b[0m\u001b[1;33m\u001b[0m\u001b[0m\n\u001b[1;32m---> 29\u001b[1;33m         \u001b[0mp\u001b[0m \u001b[1;33m=\u001b[0m \u001b[0mself\u001b[0m\u001b[1;33m.\u001b[0m\u001b[0m_time_points\u001b[0m\u001b[1;33m.\u001b[0m\u001b[0mget\u001b[0m\u001b[1;33m(\u001b[0m\u001b[1;33m)\u001b[0m\u001b[1;33m\u001b[0m\u001b[1;33m\u001b[0m\u001b[0m\n\u001b[0m\u001b[0;32m     30\u001b[0m \u001b[1;33m\u001b[0m\u001b[0m\n\u001b[0;32m     31\u001b[0m \u001b[1;31m#             sim_time = p.time\u001b[0m\u001b[1;33m\u001b[0m\u001b[1;33m\u001b[0m\u001b[1;33m\u001b[0m\u001b[0m\n",
      "\u001b[1;32mc:\\users\\jaemin\\appdata\\local\\programs\\python\\python36\\Lib\\queue.py\u001b[0m in \u001b[0;36mget\u001b[1;34m(self, block, timeout)\u001b[0m\n\u001b[0;32m    172\u001b[0m                         \u001b[1;32mraise\u001b[0m \u001b[0mEmpty\u001b[0m\u001b[1;33m\u001b[0m\u001b[1;33m\u001b[0m\u001b[0m\n\u001b[0;32m    173\u001b[0m                     \u001b[0mself\u001b[0m\u001b[1;33m.\u001b[0m\u001b[0mnot_empty\u001b[0m\u001b[1;33m.\u001b[0m\u001b[0mwait\u001b[0m\u001b[1;33m(\u001b[0m\u001b[0mremaining\u001b[0m\u001b[1;33m)\u001b[0m\u001b[1;33m\u001b[0m\u001b[1;33m\u001b[0m\u001b[0m\n\u001b[1;32m--> 174\u001b[1;33m             \u001b[0mitem\u001b[0m \u001b[1;33m=\u001b[0m \u001b[0mself\u001b[0m\u001b[1;33m.\u001b[0m\u001b[0m_get\u001b[0m\u001b[1;33m(\u001b[0m\u001b[1;33m)\u001b[0m\u001b[1;33m\u001b[0m\u001b[1;33m\u001b[0m\u001b[0m\n\u001b[0m\u001b[0;32m    175\u001b[0m             \u001b[0mself\u001b[0m\u001b[1;33m.\u001b[0m\u001b[0mnot_full\u001b[0m\u001b[1;33m.\u001b[0m\u001b[0mnotify\u001b[0m\u001b[1;33m(\u001b[0m\u001b[1;33m)\u001b[0m\u001b[1;33m\u001b[0m\u001b[1;33m\u001b[0m\u001b[0m\n\u001b[0;32m    176\u001b[0m             \u001b[1;32mreturn\u001b[0m \u001b[0mitem\u001b[0m\u001b[1;33m\u001b[0m\u001b[1;33m\u001b[0m\u001b[0m\n",
      "\u001b[1;32mc:\\users\\jaemin\\appdata\\local\\programs\\python\\python36\\Lib\\queue.py\u001b[0m in \u001b[0;36m_get\u001b[1;34m(self)\u001b[0m\n\u001b[0;32m    228\u001b[0m \u001b[1;33m\u001b[0m\u001b[0m\n\u001b[0;32m    229\u001b[0m     \u001b[1;32mdef\u001b[0m \u001b[0m_get\u001b[0m\u001b[1;33m(\u001b[0m\u001b[0mself\u001b[0m\u001b[1;33m)\u001b[0m\u001b[1;33m:\u001b[0m\u001b[1;33m\u001b[0m\u001b[1;33m\u001b[0m\u001b[0m\n\u001b[1;32m--> 230\u001b[1;33m         \u001b[1;32mreturn\u001b[0m \u001b[0mheappop\u001b[0m\u001b[1;33m(\u001b[0m\u001b[0mself\u001b[0m\u001b[1;33m.\u001b[0m\u001b[0mqueue\u001b[0m\u001b[1;33m)\u001b[0m\u001b[1;33m\u001b[0m\u001b[1;33m\u001b[0m\u001b[0m\n\u001b[0m\u001b[0;32m    231\u001b[0m \u001b[1;33m\u001b[0m\u001b[0m\n\u001b[0;32m    232\u001b[0m \u001b[1;33m\u001b[0m\u001b[0m\n",
      "\u001b[1;31mTypeError\u001b[0m: '<' not supported between instances of 'TimePoint' and 'TimePoint'"
     ]
    }
   ],
   "source": [
    "sim = Simulator(100)\n",
    "sim.run()"
   ]
  },
  {
   "cell_type": "markdown",
   "id": "e950b65f-0b24-4bf2-8be7-b4eb1d146a12",
   "metadata": {},
   "source": [
    "### MCMC ? Markov Chain Monte Carlo \n",
    "- 확률적으로 쉽게 해결할 수 있는 상황에 난수를 적용하는 방법\n",
    "- 몬테카를로 시뮬레이션에 마크로프 연쇄를 곁들인 .. \n",
    "- 몬테카를로\n",
    "  - 항(term)의 특정 분포 및 계열의 생김새를 파악 \n",
    "  - 시간에 따라 그 항들의 변화하는 방식을 파악하기 어려움 \n",
    "- 마르코프 연쇄 \n",
    "  - 상태간 관계를 전체 적분하지 않고 단계를 밟는다\n",
    "  - 적분을 계산하는 것이 아닌 시간에 따른 단계의 시계열을 시뮬레이션 한다 \n",
    "  - 천이확률(= 전이확률) ? \n",
    "    - A였던 상태가 B가 될 확률(조건부 확률?)"
   ]
  },
  {
   "cell_type": "code",
   "execution_count": 84,
   "id": "31f04a44-74c5-4411-9ac6-0bfe80ef23b1",
   "metadata": {},
   "outputs": [],
   "source": [
    "# 환경 설정\n",
    "\n",
    "N = 5 # 격자의 너비\n",
    "M = 5 # 격자의 높이\n",
    "temperature = 0.5\n",
    "BETA = 1 / temperature"
   ]
  },
  {
   "cell_type": "code",
   "execution_count": 87,
   "id": "f9eac5c1-9212-4178-914f-db710c19c727",
   "metadata": {},
   "outputs": [],
   "source": [
    "def initRandState(N, M):\t\t\n",
    "    block = np.random.choice([-1, 1], size = (N, M))\n",
    "    return block\n",
    "\n",
    "def costForCenterState(state, i, j, n, m):\n",
    "    centerS = state[i, j]\n",
    "    neighbors=[((i + 1) % n, j), ((i - 1) % n, j),\n",
    "               (i, (j + 1) % m), (i, (j - 1) % m)]\n",
    "    interactionE = [state[x, y] * centerS for (x, y) in neighbors]\n",
    "\n",
    "    return np.sum(interactionE)\n",
    "\n",
    "def magnetizationForState(state): \n",
    "    return np.sum(state)\t\n",
    "\n",
    "def mcmcAdjust(state):\t\t\n",
    "    n = state.shape[0] \t\t\t\t\t\n",
    "    m = state.shape[1]\n",
    "    x, y = np.random.randint(0, n), np.random.randint(0, m)\n",
    "    centerS = state[x, y]\n",
    "    cost = costForCenterState(state, x, y, n, m)\t\n",
    "    if cost < 0:\n",
    "        centerS *= -1\n",
    "    elif np.random.random() < np.exp(-cost * BETA):\n",
    "        centerS *= -1\n",
    "    state[x, y] = centerS\t\n",
    "    return state\n",
    "\n",
    "def runState(state, n_steps, snapsteps = None): \n",
    "    if snapsteps is None:\n",
    "        snapsteps = np.linspace(0, n_steps, \n",
    "                     num = round(n_steps / (M * N * 100)), dtype = np.int32)\n",
    "    saved_states = []\n",
    "    sp = 0\n",
    "    magnet_hist = []\n",
    "    for i in range(n_steps):\t\t\t\t\n",
    "        state = mcmcAdjust(state) \n",
    "        magnet_hist.append(magnetizationForState(state)) \n",
    "        if sp < len(snapsteps) and i == snapsteps[sp]:\n",
    "            saved_states.append(np.copy(state))\t\t\n",
    "            sp += 1\n",
    "    return state, saved_states, magnet_hist"
   ]
  },
  {
   "cell_type": "code",
   "execution_count": 88,
   "id": "e4c32c0d-e6a9-4ce2-a3d8-7b3a563e8cec",
   "metadata": {},
   "outputs": [
    {
     "data": {
      "text/plain": [
       "array([[ 1,  1,  1,  1,  1],\n",
       "       [-1,  1, -1,  1,  1],\n",
       "       [ 1,  1, -1,  1, -1],\n",
       "       [ 1,  1,  1, -1,  1],\n",
       "       [ 1, -1,  1,  1,  1]])"
      ]
     },
     "execution_count": 88,
     "metadata": {},
     "output_type": "execute_result"
    }
   ],
   "source": [
    "init_state = initRandState(N, M)\n",
    "init_state\n"
   ]
  },
  {
   "cell_type": "code",
   "execution_count": 89,
   "id": "f277ee92-0065-47c3-9b54-3ac78864f182",
   "metadata": {},
   "outputs": [
    {
     "data": {
      "image/png": "[encoded data removed]",
      "text/plain": [
       "<Figure size 432x288 with 1 Axes>"
      ]
     },
     "metadata": {
      "needs_background": "light"
     },
     "output_type": "display_data"
    }
   ],
   "source": [
    "results = []\n",
    "for i in range(100):\n",
    "    init_state = initRandState(N, M)\n",
    "    final_state, states, magnet_hist = runState(init_state, 1000)\n",
    "    results.append(magnet_hist)\n",
    "\n",
    "## 겹치는 곡선을 알아볼 수 있게끔 약간의 투명도를 줘서 각 곡선을 그립니다.\n",
    "for mh in results:\n",
    "    plt.plot(mh,'r', alpha=0.2)"
   ]
  },
  {
   "cell_type": "code",
   "execution_count": null,
   "id": "c64b407b-5318-4d36-8d2f-cdbdde2c4498",
   "metadata": {},
   "outputs": [],
   "source": []
  }
 ],
 "metadata": {
  "kernelspec": {
   "display_name": "Python 3",
   "language": "python",
   "name": "python3"
  },
  "language_info": {
   "codemirror_mode": {
    "name": "ipython",
    "version": 3
   },
   "file_extension": ".py",
   "mimetype": "text/x-python",
   "name": "python",
   "nbconvert_exporter": "python",
   "pygments_lexer": "ipython3",
   "version": "3.6.8"
  }
 },
 "nbformat": 4,
 "nbformat_minor": 5
}
